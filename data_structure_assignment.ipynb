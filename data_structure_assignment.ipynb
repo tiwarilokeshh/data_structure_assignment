{
  "nbformat": 4,
  "nbformat_minor": 0,
  "metadata": {
    "colab": {
      "provenance": [],
      "toc_visible": true
    },
    "kernelspec": {
      "name": "python3",
      "display_name": "Python 3"
    },
    "language_info": {
      "name": "python"
    }
  },
  "cells": [
    {
      "cell_type": "markdown",
      "source": [
        "# ***Data Types and Structures Questions***\n"
      ],
      "metadata": {
        "id": "aOdEQeBQsaV-"
      }
    },
    {
      "cell_type": "markdown",
      "source": [
        "\n",
        "\n",
        "> 1. What are data structures, and why are they important ? >>>> A data structure is a way of organizing, storing, and managing data efficiently to perform operations like searching, sorting, inserting, and deleting data nd they are importrant because improve efficiency , managing large data , enhance code readibility and many more.\n",
        "\n",
        "> 2.   Explain the difference between mutable and immutable data types with examples ? >>>> mutable data type are that can be modify after a creation and immutable data type are that can not be modify after a creation . EX = list are mutable , string tuple set are immutable.\n",
        "\n",
        "> 3. What are the main differences between lists and tuples in Python ? >>>> list are mutable and tuples are immutable that is the main reason.\n",
        "\n",
        "> 4.  Describe how dictionaries store data? >>>> A dictionary store data as a key value pair this will also allow the fast lookups , insertion , deletion .\n",
        "\n",
        "> 5. Why might you use a set instead of a list in Python ? >>>> A set in Python is an unordered collection of unique elements, where a list is an ordered collection that allows duplicates.\n",
        "\n",
        "> 6. What is a string in Python, and how is it different from a list ? >>>> A string in Python is an immutable sequence of characters used to store and manipulate text and string is immutable and list is mutable , string contain only characters and list store any type of data type.\n",
        "\n",
        "> 7. How do tuples ensure data integrity in Python ? >>>> A tuple in Python is an immutable, ordered collection of elements. This immutability ensures data integrity by preventing accidental modification, making tuples ideal for storing fixed, unchangeable data.\n",
        "\n",
        "> 8. What is a hash table, and how does it relate to dictionaries in Python ? >>>> A hash table is a data structure that stores key-value pairs using a hash function to map keys to unique indices.\n",
        "\n",
        "> 9. Can lists contain different data types in Python ? >>>> yes list contain any data type in python it can store int , float , boolean any data type in python .\n",
        "\n",
        "> 10. Explain why strings are immutable in Python ? >>>> In Python, strings are immutable, meaning once a string is created, it cannot be changed. If you modify a string, a new string object is created instead of modifying the existing one. Reasons for String Immutability memory efficiency , hashability and many more .\n",
        "\n",
        "> 11. What advantages do dictionaries offer over lists for certain tasks ? >>>> Dictionaries and lists are both important data structures in Python, but dictionaries outperform lists in specific scenarios due to their key-value structure and faster lookups.\n",
        "\n",
        "> 12. Describe a scenario where using a tuple would be preferable over a list >>>> A tuple is preferable over a list when you need immutable, fixed data that should not be modified after creation.\n",
        "\n",
        "> 13. How do sets handle duplicate values in Python ? >>>> A set in Python is an unordered collection of unique elements. It automatically removes duplicate values, ensuring that each element appears only once.\n",
        "\n",
        "> 14. How does the “in” keyword work differently for lists and dictionaries ? >>>> The in keyword is used to check for membership in both lists and dictionaries, but it works differently for list python check each element one by one and in dictionaries in keyword check only keys not values.\n",
        "\n",
        "> 15. Can you modify the elements of a tuple? Explain why or why not >>>> No , tuples are immutable it can not be modify any element after a creation.\n",
        "\n",
        "> 16. What is a nested dictionary, and give an example of its use case ? >>>> A nested dictionary is a dictionary that contains one or more dictionaries as values. It allows hierarchical data storage, making it useful for representing structured information. EX = #students = {\n",
        "    \"student_1\": {\n",
        "        \"name\": \"Alice\",\n",
        "        \"age\": 20,\n",
        "        \"grades\": {\"math\": 90, \"science\": 85}\n",
        "    },\n",
        "    \"student_2\": {\n",
        "        \"name\": \"Bob\",\n",
        "        \"age\": 21,\n",
        "        \"grades\": {\"math\": 80, \"science\": 88}\n",
        "    }\n",
        "}\n",
        "\n",
        "print(students[\"student_1\"][\"name\"])  # Output: Alice\n",
        "print(students[\"student_2\"][\"grades\"][\"math\"])  # Output: 80\n",
        "\n",
        "> 17. Describe the time complexity of accessing elements in a dictionary >>>> In Python, dictionaries are implemented using hash tables, which allow for fast key-based lookups.\n",
        "\n",
        "> 18. In what situations are lists preferred over dictionaries ? >>>> While dictionaries offer fast key-based lookups, lists are preferred in certain situations where ordering, indexing, and sequential operations matter.\n",
        "\n",
        "> 19. Why are dictionaries considered unordered, and how does that affect data retrieval ? >>>> Dictionaries were considered unordered because they were implemented using hash tables, where elements were stored based on their hash values, not their insertion order.\n",
        "\n",
        "> 20.  Explain the difference between a list and a dictionary in terms of data retrieval ? >>>> list are accessing by index and dict are accessing by keys , both are ordered sequentially , Use a list when ordering and indexing matter,  Use a dictionary when fast key-based lookups are required.\n",
        "\n",
        "\n",
        "\n",
        "\n",
        "\n",
        "\n",
        "\n",
        "\n",
        "\n",
        "\n",
        "\n",
        "\n",
        "\n",
        "\n",
        "\n",
        "\n",
        "\n",
        "\n",
        "\n",
        "\n",
        "\n",
        "\n",
        "\n",
        "\n",
        "\n",
        "\n",
        "\n",
        "\n",
        "\n",
        "\n",
        "\n",
        "\n",
        "\n",
        "\n",
        "\n",
        "\n",
        "\n",
        "\n",
        "\n",
        "\n",
        "\n",
        "\n",
        "\n",
        "\n",
        "\n",
        "\n"
      ],
      "metadata": {
        "id": "VCR0EoqmssR8"
      }
    },
    {
      "cell_type": "markdown",
      "source": [
        "# ***Practical Questions***"
      ],
      "metadata": {
        "id": "9wrRbyAurIdC"
      }
    },
    {
      "cell_type": "code",
      "source": [
        "#Write a code to create a string with your name and print it .\n",
        "my_name = \"Lokesh Tiwari\"\n",
        "print(my_name)\n",
        "type(my_name)"
      ],
      "metadata": {
        "colab": {
          "base_uri": "https://localhost:8080/"
        },
        "id": "2BZh4cuLrEjn",
        "outputId": "956a8edf-f22b-4b6a-99fa-342ce43978e7"
      },
      "execution_count": 2,
      "outputs": [
        {
          "output_type": "stream",
          "name": "stdout",
          "text": [
            "Lokesh Tiwari\n"
          ]
        },
        {
          "output_type": "execute_result",
          "data": {
            "text/plain": [
              "str"
            ]
          },
          "metadata": {},
          "execution_count": 2
        }
      ]
    },
    {
      "cell_type": "code",
      "source": [
        "#Write a code to find the length of the string \"Hello World\".\n",
        "string = \"Hello World\"\n",
        "print(len(string))"
      ],
      "metadata": {
        "colab": {
          "base_uri": "https://localhost:8080/"
        },
        "id": "GipDaeaCvwvd",
        "outputId": "115f7132-279a-4257-c6e9-ee28685d20fe"
      },
      "execution_count": 3,
      "outputs": [
        {
          "output_type": "stream",
          "name": "stdout",
          "text": [
            "11\n"
          ]
        }
      ]
    },
    {
      "cell_type": "code",
      "source": [
        "#Write a code to slice the first 3 characters from the string \"Python Programming\".\n",
        "string = \"Python Programming\"\n",
        "print(string[0:3])"
      ],
      "metadata": {
        "colab": {
          "base_uri": "https://localhost:8080/"
        },
        "id": "vJqyV42YwDBm",
        "outputId": "54e74918-669b-4e1c-c570-0b53537b9839"
      },
      "execution_count": 7,
      "outputs": [
        {
          "output_type": "stream",
          "name": "stdout",
          "text": [
            "Pyt\n"
          ]
        }
      ]
    },
    {
      "cell_type": "code",
      "source": [
        "#Write a code to convert the string \"hello\" to uppercase.\n",
        "string = \"hello\"\n",
        "print(string.upper())"
      ],
      "metadata": {
        "colab": {
          "base_uri": "https://localhost:8080/"
        },
        "id": "MEntbx84wYUo",
        "outputId": "aff71d93-3f2a-4639-b993-eb39e24ca975"
      },
      "execution_count": 8,
      "outputs": [
        {
          "output_type": "stream",
          "name": "stdout",
          "text": [
            "HELLO\n"
          ]
        }
      ]
    },
    {
      "cell_type": "code",
      "source": [
        "#Write a code to replace the word \"apple\" with \"orange\" in the string \"I like apple\".\n",
        "string = \"I like apple\"\n",
        "string.replace(\"apple\",\"orange\")"
      ],
      "metadata": {
        "colab": {
          "base_uri": "https://localhost:8080/",
          "height": 36
        },
        "id": "Ar8sG9VfxHOH",
        "outputId": "96e95354-5d2b-40d3-c4ed-93525f543c6a"
      },
      "execution_count": 9,
      "outputs": [
        {
          "output_type": "execute_result",
          "data": {
            "text/plain": [
              "'I like orange'"
            ],
            "application/vnd.google.colaboratory.intrinsic+json": {
              "type": "string"
            }
          },
          "metadata": {},
          "execution_count": 9
        }
      ]
    },
    {
      "cell_type": "code",
      "source": [
        "#Write a code to create a list with numbers 1 to 5 and print it\n",
        "list = [1,2,3,4,5]\n",
        "print(list)\n",
        "type(list)"
      ],
      "metadata": {
        "colab": {
          "base_uri": "https://localhost:8080/"
        },
        "id": "bM863yP0xaZC",
        "outputId": "6cb3db71-5030-42de-d667-1990c59b8bdb"
      },
      "execution_count": 11,
      "outputs": [
        {
          "output_type": "stream",
          "name": "stdout",
          "text": [
            "[1, 2, 3, 4, 5]\n"
          ]
        },
        {
          "output_type": "execute_result",
          "data": {
            "text/plain": [
              "list"
            ]
          },
          "metadata": {},
          "execution_count": 11
        }
      ]
    },
    {
      "cell_type": "code",
      "source": [
        "#Write a code to append the number 10 to the list [1, 2, 3, 4]\n",
        "list = [1,2,3,4]\n",
        "list.append(100)\n",
        "print(list)"
      ],
      "metadata": {
        "colab": {
          "base_uri": "https://localhost:8080/"
        },
        "id": "dX876YqRxiLU",
        "outputId": "b5649edc-aca6-45ab-bf88-8f0c4ba9b640"
      },
      "execution_count": 12,
      "outputs": [
        {
          "output_type": "stream",
          "name": "stdout",
          "text": [
            "[1, 2, 3, 4, 100]\n"
          ]
        }
      ]
    },
    {
      "cell_type": "code",
      "source": [
        "#Write a code to remove the number 3 from the list [1, 2, 3, 4, 5]\n",
        "list = [1,2,3,4,5]\n",
        "list.remove(3)\n",
        "print(list)"
      ],
      "metadata": {
        "colab": {
          "base_uri": "https://localhost:8080/"
        },
        "id": "4KPlV9CTzAGy",
        "outputId": "6258912b-1ac0-4bd3-fd9c-7b35ddc64ce1"
      },
      "execution_count": 13,
      "outputs": [
        {
          "output_type": "stream",
          "name": "stdout",
          "text": [
            "[1, 2, 4, 5]\n"
          ]
        }
      ]
    },
    {
      "cell_type": "code",
      "source": [
        "#Write a code to access the second element in the list ['a', 'b', 'c', 'd']\n",
        "list = ['a', 'b', 'c', 'd']\n",
        "print(list[1])"
      ],
      "metadata": {
        "colab": {
          "base_uri": "https://localhost:8080/"
        },
        "id": "W-qFVDdOzJlM",
        "outputId": "db512a0e-27e6-454e-a091-9943142e5386"
      },
      "execution_count": 14,
      "outputs": [
        {
          "output_type": "stream",
          "name": "stdout",
          "text": [
            "b\n"
          ]
        }
      ]
    },
    {
      "cell_type": "code",
      "source": [
        "#Write a code to reverse the list [10, 20, 30, 40, 50]\n",
        "list = [10, 20, 30, 40, 50]\n",
        "print(list[::-1])"
      ],
      "metadata": {
        "colab": {
          "base_uri": "https://localhost:8080/"
        },
        "id": "xiwdTzRKzUWX",
        "outputId": "b7b8d8c7-e331-4427-b739-cdae5a49707b"
      },
      "execution_count": 15,
      "outputs": [
        {
          "output_type": "stream",
          "name": "stdout",
          "text": [
            "[50, 40, 30, 20, 10]\n"
          ]
        }
      ]
    },
    {
      "cell_type": "code",
      "source": [
        "# Write a code to create a tuple with the elements 100, 200, 300 and print it\n",
        "tuple = (100,200,300)\n",
        "print(tuple)\n",
        "type(tuple)"
      ],
      "metadata": {
        "colab": {
          "base_uri": "https://localhost:8080/"
        },
        "id": "s-Bve811zdHH",
        "outputId": "d9766c0f-6ddd-455e-d8f5-6964810cbecb"
      },
      "execution_count": 16,
      "outputs": [
        {
          "output_type": "stream",
          "name": "stdout",
          "text": [
            "(100, 200, 300)\n"
          ]
        },
        {
          "output_type": "execute_result",
          "data": {
            "text/plain": [
              "tuple"
            ]
          },
          "metadata": {},
          "execution_count": 16
        }
      ]
    },
    {
      "cell_type": "code",
      "source": [
        "#Write a code to access the second-to-last element of the tuple ('red', 'green', 'blue', 'yellow')\n",
        "tuple1 = ('red', 'green', 'blue', 'yellow')\n",
        "print(tuple1[1:])"
      ],
      "metadata": {
        "colab": {
          "base_uri": "https://localhost:8080/"
        },
        "id": "iWaFOMqC0r8q",
        "outputId": "6a162225-38ce-4234-dc63-68e74030bc7e"
      },
      "execution_count": 17,
      "outputs": [
        {
          "output_type": "stream",
          "name": "stdout",
          "text": [
            "('green', 'blue', 'yellow')\n"
          ]
        }
      ]
    },
    {
      "cell_type": "code",
      "source": [
        "#Write a code to find the minimum number in the tuple (10, 20, 5, 15)\n",
        "tuple = (10, 20, 5, 15)\n",
        "min(tuple)"
      ],
      "metadata": {
        "colab": {
          "base_uri": "https://localhost:8080/"
        },
        "id": "sE_JjP-106wJ",
        "outputId": "d9d6775a-ba33-41d0-8e06-91c4fe6eaf9b"
      },
      "execution_count": 18,
      "outputs": [
        {
          "output_type": "execute_result",
          "data": {
            "text/plain": [
              "5"
            ]
          },
          "metadata": {},
          "execution_count": 18
        }
      ]
    },
    {
      "cell_type": "code",
      "source": [
        "#Write a code to find the index of the element \"cat\" in the tuple ('dog', 'cat', 'rabbit')\n",
        "tuple = ('dog', 'cat', 'rabbit')\n",
        "tuple.index(\"cat\")"
      ],
      "metadata": {
        "colab": {
          "base_uri": "https://localhost:8080/"
        },
        "id": "mNkIQdjb1EkZ",
        "outputId": "34605c8f-4e37-4dfc-eb68-a7dcc5609b8c"
      },
      "execution_count": 19,
      "outputs": [
        {
          "output_type": "execute_result",
          "data": {
            "text/plain": [
              "1"
            ]
          },
          "metadata": {},
          "execution_count": 19
        }
      ]
    },
    {
      "cell_type": "code",
      "source": [
        "#Write a code to create a tuple containing three different fruits and check if \"kiwi\" is in it\n",
        "fruits = (\"mango\" , \"apple\" , \"kiwi\")\n",
        "\"kiwi\" in fruits"
      ],
      "metadata": {
        "colab": {
          "base_uri": "https://localhost:8080/"
        },
        "id": "ml1jhlGl1PSF",
        "outputId": "c45642d4-f198-4295-dce5-5533cd545b8d"
      },
      "execution_count": 20,
      "outputs": [
        {
          "output_type": "execute_result",
          "data": {
            "text/plain": [
              "True"
            ]
          },
          "metadata": {},
          "execution_count": 20
        }
      ]
    },
    {
      "cell_type": "code",
      "source": [
        "#Write a code to create a set with the elements 'a', 'b', 'c' and print it.\n",
        "set = {'a', 'b', 'c'}\n",
        "print(set)"
      ],
      "metadata": {
        "colab": {
          "base_uri": "https://localhost:8080/"
        },
        "id": "Q3wzDivR1hTS",
        "outputId": "d4ea82e0-b29a-4acb-b20e-631ec79e41e9"
      },
      "execution_count": 21,
      "outputs": [
        {
          "output_type": "stream",
          "name": "stdout",
          "text": [
            "{'b', 'a', 'c'}\n"
          ]
        }
      ]
    },
    {
      "cell_type": "code",
      "source": [
        "sorted(set)"
      ],
      "metadata": {
        "colab": {
          "base_uri": "https://localhost:8080/"
        },
        "id": "QApfWb8E1rCo",
        "outputId": "66d1c231-72f4-434f-d47d-e4ac979b7aff"
      },
      "execution_count": 22,
      "outputs": [
        {
          "output_type": "execute_result",
          "data": {
            "text/plain": [
              "['a', 'b', 'c']"
            ]
          },
          "metadata": {},
          "execution_count": 22
        }
      ]
    },
    {
      "cell_type": "code",
      "source": [
        "#Write a code to clear all elements from the set {1, 2, 3, 4, 5}.\n",
        "set = {1,2,3,4,5}\n",
        "set.clear()\n",
        "print(set)"
      ],
      "metadata": {
        "colab": {
          "base_uri": "https://localhost:8080/"
        },
        "id": "JPbyEx-f1uOs",
        "outputId": "b7a426ed-5b5a-4f06-b5bd-940dc6dccc74"
      },
      "execution_count": 24,
      "outputs": [
        {
          "output_type": "stream",
          "name": "stdout",
          "text": [
            "set()\n"
          ]
        }
      ]
    },
    {
      "cell_type": "code",
      "source": [
        "# Write a code to remove the element 4 from the set {1, 2, 3, 4}.\n",
        "set = {1,2,3,4}\n",
        "set.remove(4)\n",
        "print(set)"
      ],
      "metadata": {
        "colab": {
          "base_uri": "https://localhost:8080/"
        },
        "id": "Kg1vYvW911_O",
        "outputId": "617e401f-b5da-4ff3-96ca-bc23501eb555"
      },
      "execution_count": 25,
      "outputs": [
        {
          "output_type": "stream",
          "name": "stdout",
          "text": [
            "{1, 2, 3}\n"
          ]
        }
      ]
    },
    {
      "cell_type": "code",
      "source": [
        "# Write a code to find the union of two sets {1, 2, 3} and {3, 4, 5}\n",
        "s1 = {1,2,3}\n",
        "s2 = {3,4,5}\n",
        "s1 | s2"
      ],
      "metadata": {
        "colab": {
          "base_uri": "https://localhost:8080/"
        },
        "id": "5XPD-fAn2A2w",
        "outputId": "a758b190-bd5b-4740-9328-6ebf6017b566"
      },
      "execution_count": 26,
      "outputs": [
        {
          "output_type": "execute_result",
          "data": {
            "text/plain": [
              "{1, 2, 3, 4, 5}"
            ]
          },
          "metadata": {},
          "execution_count": 26
        }
      ]
    },
    {
      "cell_type": "code",
      "source": [
        "#Write a code to find the intersection of two sets {1, 2, 3} and {2, 3, 4}\n",
        "s1 = {1,2,3}\n",
        "s2 = {2,3,4}\n",
        "s1 & s2"
      ],
      "metadata": {
        "colab": {
          "base_uri": "https://localhost:8080/"
        },
        "id": "ff2HX_nE2Lsb",
        "outputId": "e2f21b08-47b5-4880-803e-4c20dbc90374"
      },
      "execution_count": 27,
      "outputs": [
        {
          "output_type": "execute_result",
          "data": {
            "text/plain": [
              "{2, 3}"
            ]
          },
          "metadata": {},
          "execution_count": 27
        }
      ]
    },
    {
      "cell_type": "code",
      "source": [
        "#Write a code to create a dictionary with the keys \"name\", \"age\", and \"city\", and print it.\n",
        "dict = {\"name\" : \"Lokesh\" , \"age\" : 20 , \"city\" : \"deori\" }\n",
        "print(dict)\n",
        "type(dict)"
      ],
      "metadata": {
        "colab": {
          "base_uri": "https://localhost:8080/"
        },
        "id": "rmGsOAkD2aOY",
        "outputId": "60440259-eed8-4609-e64b-de89db064c22"
      },
      "execution_count": 28,
      "outputs": [
        {
          "output_type": "stream",
          "name": "stdout",
          "text": [
            "{'name': 'Lokesh', 'age': 20, 'city': 'deori'}\n"
          ]
        },
        {
          "output_type": "execute_result",
          "data": {
            "text/plain": [
              "dict"
            ]
          },
          "metadata": {},
          "execution_count": 28
        }
      ]
    },
    {
      "cell_type": "code",
      "source": [
        "# Write a code to add a new key-value pair \"country\": \"USA\" to the dictionary {'name': 'John', 'age': 25}.\n",
        "dict = {'name': 'John', 'age': 25}\n",
        "dict[\"country\"] = \"India\"\n",
        "print(dict)"
      ],
      "metadata": {
        "colab": {
          "base_uri": "https://localhost:8080/"
        },
        "id": "cLIwu2sV2vjU",
        "outputId": "af7a488f-9c49-4078-b744-c34d9b57d2bb"
      },
      "execution_count": 35,
      "outputs": [
        {
          "output_type": "stream",
          "name": "stdout",
          "text": [
            "{'name': 'John', 'age': 25, 'country': 'India'}\n"
          ]
        }
      ]
    },
    {
      "cell_type": "code",
      "source": [
        "# Write a code to access the value associated with the key \"name\" in the dictionary {'name': 'Alice', 'age': 30}\n",
        "dict = {'name': 'Alice', 'age': 30}\n",
        "dict[\"name\"]"
      ],
      "metadata": {
        "colab": {
          "base_uri": "https://localhost:8080/",
          "height": 36
        },
        "id": "xj5dNF1a3JKX",
        "outputId": "c6f5d8b0-410e-4184-ab76-be109eebc26b"
      },
      "execution_count": 36,
      "outputs": [
        {
          "output_type": "execute_result",
          "data": {
            "text/plain": [
              "'Alice'"
            ],
            "application/vnd.google.colaboratory.intrinsic+json": {
              "type": "string"
            }
          },
          "metadata": {},
          "execution_count": 36
        }
      ]
    },
    {
      "cell_type": "code",
      "source": [
        "#Write a code to remove the key \"age\" from the dictionary {'name': 'Bob', 'age': 22, 'city': 'New York'}\n",
        "dict = {'name': 'Bob', 'age': 22, 'city': 'New York'}\n",
        "dict.pop(\"age\")\n",
        "print(dict)"
      ],
      "metadata": {
        "colab": {
          "base_uri": "https://localhost:8080/"
        },
        "id": "G75bqizS31nL",
        "outputId": "f96b8167-f510-4eaf-bcb2-08d26cc95b5d"
      },
      "execution_count": 37,
      "outputs": [
        {
          "output_type": "stream",
          "name": "stdout",
          "text": [
            "{'name': 'Bob', 'city': 'New York'}\n"
          ]
        }
      ]
    },
    {
      "cell_type": "code",
      "source": [
        "#Write a code to check if the key \"city\" exists in the dictionary {'name': 'Alice', 'city': 'Paris'}.\n",
        "dict = {'name': 'Alice', 'city': 'Paris'}\n",
        "\"city\" in dict"
      ],
      "metadata": {
        "colab": {
          "base_uri": "https://localhost:8080/"
        },
        "id": "WtUwCR6h3_Hk",
        "outputId": "92d074f3-b500-4a2d-9c3f-03e41f668794"
      },
      "execution_count": 39,
      "outputs": [
        {
          "output_type": "execute_result",
          "data": {
            "text/plain": [
              "True"
            ]
          },
          "metadata": {},
          "execution_count": 39
        }
      ]
    },
    {
      "cell_type": "code",
      "source": [
        "#Write a code to create a list, a tuple, and a dictionary, and print them all.\n",
        "lis = [1,2,3,4,5,6]\n",
        "print(lis)\n",
        "type(lis)\n",
        "\n",
        "tuple2 = (1,2,3,4,5,6)\n",
        "print(tuple2)\n",
        "type(tuple2)\n",
        "\n",
        "dict = {\"name\" : \"Lokesh\" , \"age\" : 20 , \"city\" : \"deori\" }\n",
        "print(dict)\n",
        "type(dict)"
      ],
      "metadata": {
        "colab": {
          "base_uri": "https://localhost:8080/"
        },
        "id": "imQ2DWIK4JXr",
        "outputId": "319c97f5-7355-400e-90d3-37fc0f311554"
      },
      "execution_count": 43,
      "outputs": [
        {
          "output_type": "stream",
          "name": "stdout",
          "text": [
            "[1, 2, 3, 4, 5, 6]\n",
            "(1, 2, 3, 4, 5, 6)\n",
            "{'name': 'Lokesh', 'age': 20, 'city': 'deori'}\n"
          ]
        },
        {
          "output_type": "execute_result",
          "data": {
            "text/plain": [
              "dict"
            ]
          },
          "metadata": {},
          "execution_count": 43
        }
      ]
    },
    {
      "cell_type": "code",
      "source": [
        "#Write a code to create a list of 5 random numbers between 1 and 100, sort it in ascending order, and print the result.(replaced)\n",
        "list = [20,5,45,76,41]\n",
        "list.sort()\n",
        "print(list)"
      ],
      "metadata": {
        "colab": {
          "base_uri": "https://localhost:8080/"
        },
        "id": "MjU9_P-y4hWN",
        "outputId": "4469d1ed-a1e9-4512-e77d-8beaf882fb7c"
      },
      "execution_count": 46,
      "outputs": [
        {
          "output_type": "stream",
          "name": "stdout",
          "text": [
            "[5, 20, 41, 45, 76]\n"
          ]
        }
      ]
    },
    {
      "cell_type": "code",
      "source": [
        "#Write a code to create a list with strings and print the element at the third index.\n",
        "fruits = [\"apple\" , \"banana\" , \"mango\" , \"orange\" , \"papaya\"]\n",
        "print(fruits[3])"
      ],
      "metadata": {
        "colab": {
          "base_uri": "https://localhost:8080/"
        },
        "id": "N2hnLrPH5FK8",
        "outputId": "8f412f27-1d5f-4304-c672-23b8f93c2384"
      },
      "execution_count": 47,
      "outputs": [
        {
          "output_type": "stream",
          "name": "stdout",
          "text": [
            "orange\n"
          ]
        }
      ]
    },
    {
      "cell_type": "code",
      "source": [
        "#Write a code to combine two dictionaries into one and print the result.\n",
        "dict1 = {\"name\" : \"Lokesh\" , \"age\" : 20 , \"city\" : \"deori\" }\n",
        "dict2 = {\"name1\" : \"Tiwari\" , \"age1\" : 18 , \"city1\" : \"sagar\" }\n",
        "dict1.update(dict2)\n",
        "print(dict1)"
      ],
      "metadata": {
        "colab": {
          "base_uri": "https://localhost:8080/"
        },
        "id": "ny8cqQDt51Rg",
        "outputId": "1c18b477-bfaf-43e7-ad84-78d85cd0914c"
      },
      "execution_count": 49,
      "outputs": [
        {
          "output_type": "stream",
          "name": "stdout",
          "text": [
            "{'name': 'Lokesh', 'age': 20, 'city': 'deori', 'name1': 'Tiwari', 'age1': 18, 'city1': 'sagar'}\n"
          ]
        }
      ]
    },
    {
      "cell_type": "code",
      "source": [
        "#Write a code to convert a list of strings into a set.\n",
        "list = [\"Lokesh\" , \"Tiwari\" , \"apple\" , \"milk\" , \"banana\"]\n",
        "list1 = set(list)\n",
        "print(list1)"
      ],
      "metadata": {
        "colab": {
          "base_uri": "https://localhost:8080/"
        },
        "id": "OQIm8S0g6Tqn",
        "outputId": "6e9cb1b0-9ae1-4893-c17d-f9b4f8e1f63d"
      },
      "execution_count": 1,
      "outputs": [
        {
          "output_type": "stream",
          "name": "stdout",
          "text": [
            "{'Tiwari', 'milk', 'apple', 'banana', 'Lokesh'}\n"
          ]
        }
      ]
    }
  ]
}